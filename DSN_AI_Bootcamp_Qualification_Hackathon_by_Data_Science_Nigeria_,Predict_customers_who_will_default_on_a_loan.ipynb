{
  "nbformat": 4,
  "nbformat_minor": 0,
  "metadata": {
    "colab": {
      "name": "DSN AI Bootcamp Qualification Hackathon by Data Science Nigeria ,Predict customers who will default on a loan",
      "provenance": [],
      "authorship_tag": "ABX9TyPTe2gwrg/ay4j4Jp+ZwA+e",
      "include_colab_link": true
    },
    "kernelspec": {
      "display_name": "Python 3",
      "name": "python3"
    },
    "language_info": {
      "name": "python"
    }
  },
  "cells": [
    {
      "cell_type": "markdown",
      "metadata": {
        "id": "view-in-github",
        "colab_type": "text"
      },
      "source": [
        "<a href=\"https://colab.research.google.com/github/Adebesindedayo/DSN-AI-Bootcamp-Qualification-Hackathon-by-Data-Science-Nigeria-Predict-customers-who-will-default-/blob/main/DSN_AI_Bootcamp_Qualification_Hackathon_by_Data_Science_Nigeria_%2CPredict_customers_who_will_default_on_a_loan.ipynb\" target=\"_parent\"><img src=\"https://colab.research.google.com/assets/colab-badge.svg\" alt=\"Open In Colab\"/></a>"
      ]
    },
    {
      "cell_type": "markdown",
      "metadata": {
        "id": "JPkQb0fV_q4x"
      },
      "source": [
        "**#MOUNTING THE DRIVE TO IMPORT THE DATA SET**\n",
        "\n"
      ]
    },
    {
      "cell_type": "code",
      "metadata": {
        "colab": {
          "base_uri": "https://localhost:8080/"
        },
        "id": "GWltpXu5_voH",
        "outputId": "ef4637e5-e984-4cc1-c53e-725d5d7f1623"
      },
      "source": [
        "from google.colab import drive \n",
        "drive.mount('/content/gdrive', force_remount=True)"
      ],
      "execution_count": null,
      "outputs": [
        {
          "output_type": "stream",
          "text": [
            "Mounted at /content/gdrive\n"
          ],
          "name": "stdout"
        }
      ]
    },
    {
      "cell_type": "markdown",
      "metadata": {
        "id": "ngNf70JMDXhC"
      },
      "source": [
        "**IMPORTING THE NECESSARY LIBRARIES"
      ]
    },
    {
      "cell_type": "code",
      "metadata": {
        "colab": {
          "base_uri": "https://localhost:8080/"
        },
        "id": "g5NVHVvCELFR",
        "outputId": "59bc3053-aa64-4a5d-b786-31c5ed3c556a"
      },
      "source": [
        "!pip install catboost"
      ],
      "execution_count": null,
      "outputs": [
        {
          "output_type": "stream",
          "text": [
            "Collecting catboost\n",
            "\u001b[?25l  Downloading https://files.pythonhosted.org/packages/5a/41/24e14322b9986cf72a8763e0a0a69cc256cf963cf9502c8f0044a62c1ae8/catboost-0.26-cp37-none-manylinux1_x86_64.whl (69.2MB)\n",
            "\u001b[K     |████████████████████████████████| 69.2MB 56kB/s \n",
            "\u001b[?25hRequirement already satisfied: six in /usr/local/lib/python3.7/dist-packages (from catboost) (1.15.0)\n",
            "Requirement already satisfied: graphviz in /usr/local/lib/python3.7/dist-packages (from catboost) (0.10.1)\n",
            "Requirement already satisfied: pandas>=0.24.0 in /usr/local/lib/python3.7/dist-packages (from catboost) (1.1.5)\n",
            "Requirement already satisfied: matplotlib in /usr/local/lib/python3.7/dist-packages (from catboost) (3.2.2)\n",
            "Requirement already satisfied: scipy in /usr/local/lib/python3.7/dist-packages (from catboost) (1.4.1)\n",
            "Requirement already satisfied: plotly in /usr/local/lib/python3.7/dist-packages (from catboost) (4.4.1)\n",
            "Requirement already satisfied: numpy>=1.16.0 in /usr/local/lib/python3.7/dist-packages (from catboost) (1.19.5)\n",
            "Requirement already satisfied: python-dateutil>=2.7.3 in /usr/local/lib/python3.7/dist-packages (from pandas>=0.24.0->catboost) (2.8.1)\n",
            "Requirement already satisfied: pytz>=2017.2 in /usr/local/lib/python3.7/dist-packages (from pandas>=0.24.0->catboost) (2018.9)\n",
            "Requirement already satisfied: cycler>=0.10 in /usr/local/lib/python3.7/dist-packages (from matplotlib->catboost) (0.10.0)\n",
            "Requirement already satisfied: pyparsing!=2.0.4,!=2.1.2,!=2.1.6,>=2.0.1 in /usr/local/lib/python3.7/dist-packages (from matplotlib->catboost) (2.4.7)\n",
            "Requirement already satisfied: kiwisolver>=1.0.1 in /usr/local/lib/python3.7/dist-packages (from matplotlib->catboost) (1.3.1)\n",
            "Requirement already satisfied: retrying>=1.3.3 in /usr/local/lib/python3.7/dist-packages (from plotly->catboost) (1.3.3)\n",
            "Installing collected packages: catboost\n",
            "Successfully installed catboost-0.26\n"
          ],
          "name": "stdout"
        }
      ]
    },
    {
      "cell_type": "code",
      "metadata": {
        "id": "lfo1OVLC_7Q6"
      },
      "source": [
        "import numpy as np\n",
        "import pandas as pd\n",
        "import matplotlib.pyplot as plt\n",
        "import seaborn as sns\n",
        "import sklearn\n",
        "from sklearn.base import BaseEstimator, TransformerMixin\n",
        "%matplotlib inline\n",
        "from sklearn.model_selection import StratifiedKFold\n",
        "from sklearn.metrics import roc_auc_score\n",
        "from sklearn.ensemble import  GradientBoostingClassifier,RandomForestClassifier\n",
        "import lightgbm as lgbm\n",
        "import xgboost as xgb\n",
        "from catboost import CatBoostClassifier\n",
        "\n",
        "from sklearn.linear_model import  LinearRegression, Ridge\n",
        "import os, gc, warnings\n",
        "warnings.filterwarnings('ignore')"
      ],
      "execution_count": null,
      "outputs": []
    },
    {
      "cell_type": "markdown",
      "metadata": {
        "id": "KvD4xrQBF9S5"
      },
      "source": [
        "**READING THE CSV FILES**"
      ]
    },
    {
      "cell_type": "code",
      "metadata": {
        "colab": {
          "base_uri": "https://localhost:8080/",
          "height": 226
        },
        "id": "7jKAgC-PDcn4",
        "outputId": "07518237-1707-4b61-9f7c-85018800c1ed"
      },
      "source": [
        "train= pd.read_csv(\"/content/gdrive/My Drive/customers_who_will_default_on_a_loan/Train.csv\")\n",
        "train.head()\n"
      ],
      "execution_count": null,
      "outputs": [
        {
          "output_type": "execute_result",
          "data": {
            "text/html": [
              "<div>\n",
              "<style scoped>\n",
              "    .dataframe tbody tr th:only-of-type {\n",
              "        vertical-align: middle;\n",
              "    }\n",
              "\n",
              "    .dataframe tbody tr th {\n",
              "        vertical-align: top;\n",
              "    }\n",
              "\n",
              "    .dataframe thead th {\n",
              "        text-align: right;\n",
              "    }\n",
              "</style>\n",
              "<table border=\"1\" class=\"dataframe\">\n",
              "  <thead>\n",
              "    <tr style=\"text-align: right;\">\n",
              "      <th></th>\n",
              "      <th>Applicant_ID</th>\n",
              "      <th>form_field1</th>\n",
              "      <th>form_field2</th>\n",
              "      <th>form_field3</th>\n",
              "      <th>form_field4</th>\n",
              "      <th>form_field5</th>\n",
              "      <th>form_field6</th>\n",
              "      <th>form_field7</th>\n",
              "      <th>form_field8</th>\n",
              "      <th>form_field9</th>\n",
              "      <th>form_field10</th>\n",
              "      <th>form_field11</th>\n",
              "      <th>form_field12</th>\n",
              "      <th>form_field13</th>\n",
              "      <th>form_field14</th>\n",
              "      <th>form_field15</th>\n",
              "      <th>form_field16</th>\n",
              "      <th>form_field17</th>\n",
              "      <th>form_field18</th>\n",
              "      <th>form_field19</th>\n",
              "      <th>form_field20</th>\n",
              "      <th>form_field21</th>\n",
              "      <th>form_field22</th>\n",
              "      <th>form_field23</th>\n",
              "      <th>form_field24</th>\n",
              "      <th>form_field25</th>\n",
              "      <th>form_field26</th>\n",
              "      <th>form_field27</th>\n",
              "      <th>form_field28</th>\n",
              "      <th>form_field29</th>\n",
              "      <th>form_field30</th>\n",
              "      <th>form_field31</th>\n",
              "      <th>form_field32</th>\n",
              "      <th>form_field33</th>\n",
              "      <th>form_field34</th>\n",
              "      <th>form_field35</th>\n",
              "      <th>form_field36</th>\n",
              "      <th>form_field37</th>\n",
              "      <th>form_field38</th>\n",
              "      <th>form_field39</th>\n",
              "      <th>form_field40</th>\n",
              "      <th>form_field41</th>\n",
              "      <th>form_field42</th>\n",
              "      <th>form_field43</th>\n",
              "      <th>form_field44</th>\n",
              "      <th>form_field45</th>\n",
              "      <th>form_field46</th>\n",
              "      <th>form_field47</th>\n",
              "      <th>form_field48</th>\n",
              "      <th>form_field49</th>\n",
              "      <th>form_field50</th>\n",
              "      <th>default_status</th>\n",
              "    </tr>\n",
              "  </thead>\n",
              "  <tbody>\n",
              "    <tr>\n",
              "      <th>0</th>\n",
              "      <td>Apcnt_1000000</td>\n",
              "      <td>3436.0</td>\n",
              "      <td>0.28505</td>\n",
              "      <td>1.6560</td>\n",
              "      <td>0.0</td>\n",
              "      <td>0.000</td>\n",
              "      <td>0.0</td>\n",
              "      <td>10689720.0</td>\n",
              "      <td>252072.0</td>\n",
              "      <td>4272776.0</td>\n",
              "      <td>11333126.0</td>\n",
              "      <td>4397256.0</td>\n",
              "      <td>2301324.0</td>\n",
              "      <td>7875694.0</td>\n",
              "      <td>96375139</td>\n",
              "      <td>112181765.0</td>\n",
              "      <td>1.0</td>\n",
              "      <td>1.0</td>\n",
              "      <td>1.0</td>\n",
              "      <td>3.0</td>\n",
              "      <td>3.0</td>\n",
              "      <td>134.655</td>\n",
              "      <td>NaN</td>\n",
              "      <td>NaN</td>\n",
              "      <td>134.655</td>\n",
              "      <td>4000.5</td>\n",
              "      <td>17064.0</td>\n",
              "      <td>11376.0</td>\n",
              "      <td>60.0</td>\n",
              "      <td>17064.0</td>\n",
              "      <td>5962.0</td>\n",
              "      <td>NaN</td>\n",
              "      <td>1052.0</td>\n",
              "      <td>8.0000</td>\n",
              "      <td>2.0</td>\n",
              "      <td>NaN</td>\n",
              "      <td>12.0</td>\n",
              "      <td>12.0</td>\n",
              "      <td>4.0</td>\n",
              "      <td>0.0</td>\n",
              "      <td>NaN</td>\n",
              "      <td>NaN</td>\n",
              "      <td>0.392854</td>\n",
              "      <td>2.02</td>\n",
              "      <td>0.711632</td>\n",
              "      <td>0.0</td>\n",
              "      <td>0.0</td>\n",
              "      <td>charge</td>\n",
              "      <td>NaN</td>\n",
              "      <td>1.129518</td>\n",
              "      <td>0.044335</td>\n",
              "      <td>no</td>\n",
              "    </tr>\n",
              "    <tr>\n",
              "      <th>1</th>\n",
              "      <td>Apcnt_1000004</td>\n",
              "      <td>3456.0</td>\n",
              "      <td>0.67400</td>\n",
              "      <td>0.2342</td>\n",
              "      <td>0.0</td>\n",
              "      <td>0.000</td>\n",
              "      <td>0.0</td>\n",
              "      <td>898979.0</td>\n",
              "      <td>497531.0</td>\n",
              "      <td>9073814.0</td>\n",
              "      <td>2533168.0</td>\n",
              "      <td>244292.0</td>\n",
              "      <td>3982971.0</td>\n",
              "      <td>2141445.0</td>\n",
              "      <td>28141427</td>\n",
              "      <td>45169902.0</td>\n",
              "      <td>1.0</td>\n",
              "      <td>1.0</td>\n",
              "      <td>1.0</td>\n",
              "      <td>2.0</td>\n",
              "      <td>2.0</td>\n",
              "      <td>109.230</td>\n",
              "      <td>11385.24</td>\n",
              "      <td>14584.29</td>\n",
              "      <td>86.685</td>\n",
              "      <td>4161.0</td>\n",
              "      <td>13413.0</td>\n",
              "      <td>8942.0</td>\n",
              "      <td>304.0</td>\n",
              "      <td>13413.0</td>\n",
              "      <td>5780.0</td>\n",
              "      <td>NaN</td>\n",
              "      <td>2554.0</td>\n",
              "      <td>17.5000</td>\n",
              "      <td>0.0</td>\n",
              "      <td>0.0</td>\n",
              "      <td>16.0</td>\n",
              "      <td>24.0</td>\n",
              "      <td>8.0</td>\n",
              "      <td>0.0</td>\n",
              "      <td>NaN</td>\n",
              "      <td>NaN</td>\n",
              "      <td>0.314281</td>\n",
              "      <td>8.08</td>\n",
              "      <td>0.183584</td>\n",
              "      <td>NaN</td>\n",
              "      <td>0.0</td>\n",
              "      <td>charge</td>\n",
              "      <td>349.805730</td>\n",
              "      <td>1.620483</td>\n",
              "      <td>0.322436</td>\n",
              "      <td>no</td>\n",
              "    </tr>\n",
              "    <tr>\n",
              "      <th>2</th>\n",
              "      <td>Apcnt_1000008</td>\n",
              "      <td>3276.0</td>\n",
              "      <td>0.53845</td>\n",
              "      <td>3.1510</td>\n",
              "      <td>0.0</td>\n",
              "      <td>6.282</td>\n",
              "      <td>NaN</td>\n",
              "      <td>956940.0</td>\n",
              "      <td>NaN</td>\n",
              "      <td>192944.0</td>\n",
              "      <td>1079864.0</td>\n",
              "      <td>NaN</td>\n",
              "      <td>NaN</td>\n",
              "      <td>0.0</td>\n",
              "      <td>16576457</td>\n",
              "      <td>22452691.0</td>\n",
              "      <td>NaN</td>\n",
              "      <td>NaN</td>\n",
              "      <td>NaN</td>\n",
              "      <td>0.0</td>\n",
              "      <td>0.0</td>\n",
              "      <td>NaN</td>\n",
              "      <td>NaN</td>\n",
              "      <td>NaN</td>\n",
              "      <td>NaN</td>\n",
              "      <td>1597.5</td>\n",
              "      <td>4746.0</td>\n",
              "      <td>3164.0</td>\n",
              "      <td>60.0</td>\n",
              "      <td>15696.0</td>\n",
              "      <td>NaN</td>\n",
              "      <td>14508.0</td>\n",
              "      <td>70.0</td>\n",
              "      <td>0.6666</td>\n",
              "      <td>0.0</td>\n",
              "      <td>NaN</td>\n",
              "      <td>12.0</td>\n",
              "      <td>0.0</td>\n",
              "      <td>6.0</td>\n",
              "      <td>0.0</td>\n",
              "      <td>149.6805</td>\n",
              "      <td>NaN</td>\n",
              "      <td>0.162965</td>\n",
              "      <td>18.18</td>\n",
              "      <td>0.791136</td>\n",
              "      <td>0.0</td>\n",
              "      <td>0.0</td>\n",
              "      <td>charge</td>\n",
              "      <td>NaN</td>\n",
              "      <td>1.513370</td>\n",
              "      <td>0.011640</td>\n",
              "      <td>yes</td>\n",
              "    </tr>\n",
              "    <tr>\n",
              "      <th>3</th>\n",
              "      <td>Apcnt_1000012</td>\n",
              "      <td>3372.0</td>\n",
              "      <td>0.17005</td>\n",
              "      <td>0.5050</td>\n",
              "      <td>0.0</td>\n",
              "      <td>0.000</td>\n",
              "      <td>192166.0</td>\n",
              "      <td>3044703.0</td>\n",
              "      <td>385499.0</td>\n",
              "      <td>3986472.0</td>\n",
              "      <td>3621979.0</td>\n",
              "      <td>NaN</td>\n",
              "      <td>771776.0</td>\n",
              "      <td>1186839.0</td>\n",
              "      <td>48187375</td>\n",
              "      <td>136297820.0</td>\n",
              "      <td>0.0</td>\n",
              "      <td>0.0</td>\n",
              "      <td>0.0</td>\n",
              "      <td>1.0</td>\n",
              "      <td>1.0</td>\n",
              "      <td>120.120</td>\n",
              "      <td>8580.00</td>\n",
              "      <td>0.00</td>\n",
              "      <td>85.800</td>\n",
              "      <td>1701.0</td>\n",
              "      <td>4014.0</td>\n",
              "      <td>2676.0</td>\n",
              "      <td>60.0</td>\n",
              "      <td>11679.0</td>\n",
              "      <td>NaN</td>\n",
              "      <td>NaN</td>\n",
              "      <td>522.0</td>\n",
              "      <td>7.8334</td>\n",
              "      <td>1.0</td>\n",
              "      <td>1.0</td>\n",
              "      <td>4.0</td>\n",
              "      <td>8.0</td>\n",
              "      <td>4.0</td>\n",
              "      <td>1.0</td>\n",
              "      <td>NaN</td>\n",
              "      <td>NaN</td>\n",
              "      <td>0.488884</td>\n",
              "      <td>2.02</td>\n",
              "      <td>0.685168</td>\n",
              "      <td>NaN</td>\n",
              "      <td>0.0</td>\n",
              "      <td>charge</td>\n",
              "      <td>89.940100</td>\n",
              "      <td>0.664452</td>\n",
              "      <td>0.082729</td>\n",
              "      <td>no</td>\n",
              "    </tr>\n",
              "    <tr>\n",
              "      <th>4</th>\n",
              "      <td>Apcnt_1000016</td>\n",
              "      <td>3370.0</td>\n",
              "      <td>0.77270</td>\n",
              "      <td>1.1010</td>\n",
              "      <td>0.0</td>\n",
              "      <td>0.000</td>\n",
              "      <td>1556.0</td>\n",
              "      <td>214728.0</td>\n",
              "      <td>214728.0</td>\n",
              "      <td>1284089.0</td>\n",
              "      <td>361770.0</td>\n",
              "      <td>396391.0</td>\n",
              "      <td>818456.0</td>\n",
              "      <td>511535.0</td>\n",
              "      <td>28141427</td>\n",
              "      <td>15292757.0</td>\n",
              "      <td>0.0</td>\n",
              "      <td>0.0</td>\n",
              "      <td>0.0</td>\n",
              "      <td>3.0</td>\n",
              "      <td>3.0</td>\n",
              "      <td>104.535</td>\n",
              "      <td>8360.19</td>\n",
              "      <td>10326.45</td>\n",
              "      <td>115.335</td>\n",
              "      <td>1551.0</td>\n",
              "      <td>3285.0</td>\n",
              "      <td>2190.0</td>\n",
              "      <td>60.0</td>\n",
              "      <td>19437.0</td>\n",
              "      <td>12958.0</td>\n",
              "      <td>5202.0</td>\n",
              "      <td>272.0</td>\n",
              "      <td>1.0000</td>\n",
              "      <td>0.0</td>\n",
              "      <td>0.0</td>\n",
              "      <td>24.0</td>\n",
              "      <td>2.0</td>\n",
              "      <td>24.0</td>\n",
              "      <td>0.0</td>\n",
              "      <td>150.0135</td>\n",
              "      <td>NaN</td>\n",
              "      <td>0.275000</td>\n",
              "      <td>12.12</td>\n",
              "      <td>0.438168</td>\n",
              "      <td>0.0</td>\n",
              "      <td>0.0</td>\n",
              "      <td>charge</td>\n",
              "      <td>97.887502</td>\n",
              "      <td>1.427891</td>\n",
              "      <td>0.045630</td>\n",
              "      <td>no</td>\n",
              "    </tr>\n",
              "  </tbody>\n",
              "</table>\n",
              "</div>"
            ],
            "text/plain": [
              "    Applicant_ID  form_field1  ...  form_field50  default_status\n",
              "0  Apcnt_1000000       3436.0  ...      0.044335              no\n",
              "1  Apcnt_1000004       3456.0  ...      0.322436              no\n",
              "2  Apcnt_1000008       3276.0  ...      0.011640             yes\n",
              "3  Apcnt_1000012       3372.0  ...      0.082729              no\n",
              "4  Apcnt_1000016       3370.0  ...      0.045630              no\n",
              "\n",
              "[5 rows x 52 columns]"
            ]
          },
          "metadata": {
            "tags": []
          },
          "execution_count": 7
        }
      ]
    },
    {
      "cell_type": "code",
      "metadata": {
        "colab": {
          "base_uri": "https://localhost:8080/",
          "height": 226
        },
        "id": "oCBtg4P_E-G9",
        "outputId": "5b321503-48af-4d45-cc69-1a8c35889fca"
      },
      "source": [
        "test= pd.read_csv(\"/content/gdrive/My Drive/customers_who_will_default_on_a_loan/Test.csv\")\n",
        "test.head()\n"
      ],
      "execution_count": null,
      "outputs": [
        {
          "output_type": "execute_result",
          "data": {
            "text/html": [
              "<div>\n",
              "<style scoped>\n",
              "    .dataframe tbody tr th:only-of-type {\n",
              "        vertical-align: middle;\n",
              "    }\n",
              "\n",
              "    .dataframe tbody tr th {\n",
              "        vertical-align: top;\n",
              "    }\n",
              "\n",
              "    .dataframe thead th {\n",
              "        text-align: right;\n",
              "    }\n",
              "</style>\n",
              "<table border=\"1\" class=\"dataframe\">\n",
              "  <thead>\n",
              "    <tr style=\"text-align: right;\">\n",
              "      <th></th>\n",
              "      <th>Applicant_ID</th>\n",
              "      <th>form_field1</th>\n",
              "      <th>form_field2</th>\n",
              "      <th>form_field3</th>\n",
              "      <th>form_field4</th>\n",
              "      <th>form_field5</th>\n",
              "      <th>form_field6</th>\n",
              "      <th>form_field7</th>\n",
              "      <th>form_field8</th>\n",
              "      <th>form_field9</th>\n",
              "      <th>form_field10</th>\n",
              "      <th>form_field11</th>\n",
              "      <th>form_field12</th>\n",
              "      <th>form_field13</th>\n",
              "      <th>form_field14</th>\n",
              "      <th>form_field15</th>\n",
              "      <th>form_field16</th>\n",
              "      <th>form_field17</th>\n",
              "      <th>form_field18</th>\n",
              "      <th>form_field19</th>\n",
              "      <th>form_field20</th>\n",
              "      <th>form_field21</th>\n",
              "      <th>form_field22</th>\n",
              "      <th>form_field23</th>\n",
              "      <th>form_field24</th>\n",
              "      <th>form_field25</th>\n",
              "      <th>form_field26</th>\n",
              "      <th>form_field27</th>\n",
              "      <th>form_field28</th>\n",
              "      <th>form_field29</th>\n",
              "      <th>form_field30</th>\n",
              "      <th>form_field31</th>\n",
              "      <th>form_field32</th>\n",
              "      <th>form_field33</th>\n",
              "      <th>form_field34</th>\n",
              "      <th>form_field35</th>\n",
              "      <th>form_field36</th>\n",
              "      <th>form_field37</th>\n",
              "      <th>form_field38</th>\n",
              "      <th>form_field39</th>\n",
              "      <th>form_field40</th>\n",
              "      <th>form_field41</th>\n",
              "      <th>form_field42</th>\n",
              "      <th>form_field43</th>\n",
              "      <th>form_field44</th>\n",
              "      <th>form_field45</th>\n",
              "      <th>form_field46</th>\n",
              "      <th>form_field47</th>\n",
              "      <th>form_field48</th>\n",
              "      <th>form_field49</th>\n",
              "      <th>form_field50</th>\n",
              "    </tr>\n",
              "  </thead>\n",
              "  <tbody>\n",
              "    <tr>\n",
              "      <th>0</th>\n",
              "      <td>Apcnt_1000032</td>\n",
              "      <td>3236.0</td>\n",
              "      <td>0.34875</td>\n",
              "      <td>10.2006</td>\n",
              "      <td>0.0000</td>\n",
              "      <td>0.0</td>\n",
              "      <td>418564.0</td>\n",
              "      <td>418564.0</td>\n",
              "      <td>418564.0</td>\n",
              "      <td>540710.0</td>\n",
              "      <td>0.0</td>\n",
              "      <td>1649749.0</td>\n",
              "      <td>5446.0</td>\n",
              "      <td>0.0</td>\n",
              "      <td>48187375</td>\n",
              "      <td>114686147.0</td>\n",
              "      <td>0.0</td>\n",
              "      <td>0.0</td>\n",
              "      <td>0.0</td>\n",
              "      <td>0.0</td>\n",
              "      <td>0.0</td>\n",
              "      <td>NaN</td>\n",
              "      <td>NaN</td>\n",
              "      <td>NaN</td>\n",
              "      <td>NaN</td>\n",
              "      <td>1086.0</td>\n",
              "      <td>6204.0</td>\n",
              "      <td>2676.0</td>\n",
              "      <td>60.0</td>\n",
              "      <td>14691.0</td>\n",
              "      <td>9794.0</td>\n",
              "      <td>NaN</td>\n",
              "      <td>238.0</td>\n",
              "      <td>1.8334</td>\n",
              "      <td>0.0</td>\n",
              "      <td>NaN</td>\n",
              "      <td>22.0</td>\n",
              "      <td>2.0</td>\n",
              "      <td>14.0</td>\n",
              "      <td>0.0</td>\n",
              "      <td>NaN</td>\n",
              "      <td>NaN</td>\n",
              "      <td>0.825000</td>\n",
              "      <td>1.01</td>\n",
              "      <td>0.800000</td>\n",
              "      <td>NaN</td>\n",
              "      <td>0.0</td>\n",
              "      <td>charge</td>\n",
              "      <td>NaN</td>\n",
              "      <td>0.000000</td>\n",
              "      <td>0.011221</td>\n",
              "    </tr>\n",
              "    <tr>\n",
              "      <th>1</th>\n",
              "      <td>Apcnt_1000048</td>\n",
              "      <td>3284.0</td>\n",
              "      <td>1.27360</td>\n",
              "      <td>2.9606</td>\n",
              "      <td>9.0198</td>\n",
              "      <td>0.0</td>\n",
              "      <td>0.0</td>\n",
              "      <td>9858816.0</td>\n",
              "      <td>49014.0</td>\n",
              "      <td>1510098.0</td>\n",
              "      <td>18308285.0</td>\n",
              "      <td>622789.0</td>\n",
              "      <td>1025793.0</td>\n",
              "      <td>1396510.0</td>\n",
              "      <td>34694910</td>\n",
              "      <td>87479487.0</td>\n",
              "      <td>1.0</td>\n",
              "      <td>1.0</td>\n",
              "      <td>1.0</td>\n",
              "      <td>2.0</td>\n",
              "      <td>2.0</td>\n",
              "      <td>142.560</td>\n",
              "      <td>NaN</td>\n",
              "      <td>NaN</td>\n",
              "      <td>570.585</td>\n",
              "      <td>3082.5</td>\n",
              "      <td>10221.0</td>\n",
              "      <td>6814.0</td>\n",
              "      <td>60.0</td>\n",
              "      <td>11955.0</td>\n",
              "      <td>3528.0</td>\n",
              "      <td>NaN</td>\n",
              "      <td>1216.0</td>\n",
              "      <td>19.5000</td>\n",
              "      <td>3.0</td>\n",
              "      <td>NaN</td>\n",
              "      <td>30.0</td>\n",
              "      <td>18.0</td>\n",
              "      <td>14.0</td>\n",
              "      <td>2.0</td>\n",
              "      <td>NaN</td>\n",
              "      <td>18.8415</td>\n",
              "      <td>0.507694</td>\n",
              "      <td>4.04</td>\n",
              "      <td>0.623248</td>\n",
              "      <td>1.0</td>\n",
              "      <td>0.0</td>\n",
              "      <td>lending</td>\n",
              "      <td>NaN</td>\n",
              "      <td>0.504974</td>\n",
              "      <td>0.043525</td>\n",
              "    </tr>\n",
              "    <tr>\n",
              "      <th>2</th>\n",
              "      <td>Apcnt_1000052</td>\n",
              "      <td>NaN</td>\n",
              "      <td>0.27505</td>\n",
              "      <td>0.0600</td>\n",
              "      <td>0.0000</td>\n",
              "      <td>0.0</td>\n",
              "      <td>NaN</td>\n",
              "      <td>NaN</td>\n",
              "      <td>NaN</td>\n",
              "      <td>NaN</td>\n",
              "      <td>0.0</td>\n",
              "      <td>118256.0</td>\n",
              "      <td>NaN</td>\n",
              "      <td>NaN</td>\n",
              "      <td>21973443</td>\n",
              "      <td>NaN</td>\n",
              "      <td>NaN</td>\n",
              "      <td>NaN</td>\n",
              "      <td>NaN</td>\n",
              "      <td>0.0</td>\n",
              "      <td>0.0</td>\n",
              "      <td>NaN</td>\n",
              "      <td>NaN</td>\n",
              "      <td>NaN</td>\n",
              "      <td>NaN</td>\n",
              "      <td>NaN</td>\n",
              "      <td>NaN</td>\n",
              "      <td>NaN</td>\n",
              "      <td>852.0</td>\n",
              "      <td>4836.0</td>\n",
              "      <td>NaN</td>\n",
              "      <td>NaN</td>\n",
              "      <td>NaN</td>\n",
              "      <td>7.8334</td>\n",
              "      <td>0.0</td>\n",
              "      <td>NaN</td>\n",
              "      <td>2.0</td>\n",
              "      <td>NaN</td>\n",
              "      <td>0.0</td>\n",
              "      <td>NaN</td>\n",
              "      <td>NaN</td>\n",
              "      <td>NaN</td>\n",
              "      <td>NaN</td>\n",
              "      <td>0.00</td>\n",
              "      <td>NaN</td>\n",
              "      <td>NaN</td>\n",
              "      <td>NaN</td>\n",
              "      <td>charge</td>\n",
              "      <td>NaN</td>\n",
              "      <td>0.000000</td>\n",
              "      <td>NaN</td>\n",
              "    </tr>\n",
              "    <tr>\n",
              "      <th>3</th>\n",
              "      <td>Apcnt_1000076</td>\n",
              "      <td>3232.0</td>\n",
              "      <td>0.28505</td>\n",
              "      <td>2.8032</td>\n",
              "      <td>0.0000</td>\n",
              "      <td>0.0</td>\n",
              "      <td>0.0</td>\n",
              "      <td>473802.0</td>\n",
              "      <td>473802.0</td>\n",
              "      <td>1724437.0</td>\n",
              "      <td>493641.0</td>\n",
              "      <td>1391064.0</td>\n",
              "      <td>1176725.0</td>\n",
              "      <td>1220293.0</td>\n",
              "      <td>16576457</td>\n",
              "      <td>NaN</td>\n",
              "      <td>2.0</td>\n",
              "      <td>2.0</td>\n",
              "      <td>2.0</td>\n",
              "      <td>3.0</td>\n",
              "      <td>3.0</td>\n",
              "      <td>109.005</td>\n",
              "      <td>13050.00</td>\n",
              "      <td>NaN</td>\n",
              "      <td>109.005</td>\n",
              "      <td>1414.5</td>\n",
              "      <td>4197.0</td>\n",
              "      <td>2798.0</td>\n",
              "      <td>60.0</td>\n",
              "      <td>14964.0</td>\n",
              "      <td>NaN</td>\n",
              "      <td>NaN</td>\n",
              "      <td>248.0</td>\n",
              "      <td>9.0000</td>\n",
              "      <td>1.0</td>\n",
              "      <td>1.0</td>\n",
              "      <td>36.0</td>\n",
              "      <td>0.0</td>\n",
              "      <td>26.0</td>\n",
              "      <td>0.0</td>\n",
              "      <td>NaN</td>\n",
              "      <td>NaN</td>\n",
              "      <td>0.916663</td>\n",
              "      <td>2.02</td>\n",
              "      <td>0.464224</td>\n",
              "      <td>NaN</td>\n",
              "      <td>NaN</td>\n",
              "      <td>charge</td>\n",
              "      <td>90.163742</td>\n",
              "      <td>0.788809</td>\n",
              "      <td>0.104029</td>\n",
              "    </tr>\n",
              "    <tr>\n",
              "      <th>4</th>\n",
              "      <td>Apcnt_1000080</td>\n",
              "      <td>3466.0</td>\n",
              "      <td>2.09545</td>\n",
              "      <td>0.8318</td>\n",
              "      <td>2.5182</td>\n",
              "      <td>0.0</td>\n",
              "      <td>19839.0</td>\n",
              "      <td>1150662.0</td>\n",
              "      <td>1150662.0</td>\n",
              "      <td>7860523.0</td>\n",
              "      <td>5752921.0</td>\n",
              "      <td>271133.0</td>\n",
              "      <td>613064.0</td>\n",
              "      <td>4779643.0</td>\n",
              "      <td>48187375</td>\n",
              "      <td>72049802.0</td>\n",
              "      <td>0.0</td>\n",
              "      <td>0.0</td>\n",
              "      <td>0.0</td>\n",
              "      <td>3.0</td>\n",
              "      <td>3.0</td>\n",
              "      <td>139.065</td>\n",
              "      <td>469.29</td>\n",
              "      <td>469.29</td>\n",
              "      <td>15.180</td>\n",
              "      <td>2724.0</td>\n",
              "      <td>9855.0</td>\n",
              "      <td>6570.0</td>\n",
              "      <td>182.0</td>\n",
              "      <td>11679.0</td>\n",
              "      <td>5900.0</td>\n",
              "      <td>NaN</td>\n",
              "      <td>2388.0</td>\n",
              "      <td>16.6666</td>\n",
              "      <td>1.0</td>\n",
              "      <td>0.0</td>\n",
              "      <td>24.0</td>\n",
              "      <td>28.0</td>\n",
              "      <td>20.0</td>\n",
              "      <td>0.0</td>\n",
              "      <td>NaN</td>\n",
              "      <td>NaN</td>\n",
              "      <td>0.234047</td>\n",
              "      <td>23.23</td>\n",
              "      <td>0.726688</td>\n",
              "      <td>0.0</td>\n",
              "      <td>0.0</td>\n",
              "      <td>lending</td>\n",
              "      <td>1303.587148</td>\n",
              "      <td>1.637733</td>\n",
              "      <td>0.163124</td>\n",
              "    </tr>\n",
              "  </tbody>\n",
              "</table>\n",
              "</div>"
            ],
            "text/plain": [
              "    Applicant_ID  form_field1  ...  form_field49  form_field50\n",
              "0  Apcnt_1000032       3236.0  ...      0.000000      0.011221\n",
              "1  Apcnt_1000048       3284.0  ...      0.504974      0.043525\n",
              "2  Apcnt_1000052          NaN  ...      0.000000           NaN\n",
              "3  Apcnt_1000076       3232.0  ...      0.788809      0.104029\n",
              "4  Apcnt_1000080       3466.0  ...      1.637733      0.163124\n",
              "\n",
              "[5 rows x 51 columns]"
            ]
          },
          "metadata": {
            "tags": []
          },
          "execution_count": 9
        }
      ]
    },
    {
      "cell_type": "code",
      "metadata": {
        "id": "CokIC2lNGG_S",
        "colab": {
          "base_uri": "https://localhost:8080/",
          "height": 320
        },
        "outputId": "5099f624-1b76-496f-c145-503f6d7d6830"
      },
      "source": [
        "train.describe()"
      ],
      "execution_count": null,
      "outputs": [
        {
          "output_type": "execute_result",
          "data": {
            "text/html": [
              "<div>\n",
              "<style scoped>\n",
              "    .dataframe tbody tr th:only-of-type {\n",
              "        vertical-align: middle;\n",
              "    }\n",
              "\n",
              "    .dataframe tbody tr th {\n",
              "        vertical-align: top;\n",
              "    }\n",
              "\n",
              "    .dataframe thead th {\n",
              "        text-align: right;\n",
              "    }\n",
              "</style>\n",
              "<table border=\"1\" class=\"dataframe\">\n",
              "  <thead>\n",
              "    <tr style=\"text-align: right;\">\n",
              "      <th></th>\n",
              "      <th>form_field1</th>\n",
              "      <th>form_field2</th>\n",
              "      <th>form_field3</th>\n",
              "      <th>form_field4</th>\n",
              "      <th>form_field5</th>\n",
              "      <th>form_field6</th>\n",
              "      <th>form_field7</th>\n",
              "      <th>form_field8</th>\n",
              "      <th>form_field9</th>\n",
              "      <th>form_field10</th>\n",
              "      <th>form_field11</th>\n",
              "      <th>form_field12</th>\n",
              "      <th>form_field13</th>\n",
              "      <th>form_field14</th>\n",
              "      <th>form_field15</th>\n",
              "      <th>form_field16</th>\n",
              "      <th>form_field17</th>\n",
              "      <th>form_field18</th>\n",
              "      <th>form_field19</th>\n",
              "      <th>form_field20</th>\n",
              "      <th>form_field21</th>\n",
              "      <th>form_field22</th>\n",
              "      <th>form_field23</th>\n",
              "      <th>form_field24</th>\n",
              "      <th>form_field25</th>\n",
              "      <th>form_field26</th>\n",
              "      <th>form_field27</th>\n",
              "      <th>form_field28</th>\n",
              "      <th>form_field29</th>\n",
              "      <th>form_field30</th>\n",
              "      <th>form_field31</th>\n",
              "      <th>form_field32</th>\n",
              "      <th>form_field33</th>\n",
              "      <th>form_field34</th>\n",
              "      <th>form_field35</th>\n",
              "      <th>form_field36</th>\n",
              "      <th>form_field37</th>\n",
              "      <th>form_field38</th>\n",
              "      <th>form_field39</th>\n",
              "      <th>form_field40</th>\n",
              "      <th>form_field41</th>\n",
              "      <th>form_field42</th>\n",
              "      <th>form_field43</th>\n",
              "      <th>form_field44</th>\n",
              "      <th>form_field45</th>\n",
              "      <th>form_field46</th>\n",
              "      <th>form_field48</th>\n",
              "      <th>form_field49</th>\n",
              "      <th>form_field50</th>\n",
              "    </tr>\n",
              "  </thead>\n",
              "  <tbody>\n",
              "    <tr>\n",
              "      <th>count</th>\n",
              "      <td>53471.000000</td>\n",
              "      <td>52156.000000</td>\n",
              "      <td>55645.000000</td>\n",
              "      <td>55645.000000</td>\n",
              "      <td>55645.000000</td>\n",
              "      <td>4.264000e+04</td>\n",
              "      <td>5.083700e+04</td>\n",
              "      <td>4.264000e+04</td>\n",
              "      <td>4.799200e+04</td>\n",
              "      <td>5.564500e+04</td>\n",
              "      <td>2.457900e+04</td>\n",
              "      <td>4.610500e+04</td>\n",
              "      <td>5.011100e+04</td>\n",
              "      <td>5.600000e+04</td>\n",
              "      <td>3.352500e+04</td>\n",
              "      <td>42964.000000</td>\n",
              "      <td>44849.000000</td>\n",
              "      <td>45598.000000</td>\n",
              "      <td>55996.000000</td>\n",
              "      <td>55645.000000</td>\n",
              "      <td>40146.000000</td>\n",
              "      <td>35600.000000</td>\n",
              "      <td>27877.000000</td>\n",
              "      <td>42703.000000</td>\n",
              "      <td>50550.000000</td>\n",
              "      <td>48562.000000</td>\n",
              "      <td>46701.000000</td>\n",
              "      <td>55645.000000</td>\n",
              "      <td>55645.000000</td>\n",
              "      <td>30491.000000</td>\n",
              "      <td>16592.000000</td>\n",
              "      <td>50550.000000</td>\n",
              "      <td>54744.000000</td>\n",
              "      <td>55645.000000</td>\n",
              "      <td>32852.000000</td>\n",
              "      <td>54005.000000</td>\n",
              "      <td>50550.000000</td>\n",
              "      <td>55645.000000</td>\n",
              "      <td>51789.000000</td>\n",
              "      <td>12271.000000</td>\n",
              "      <td>17771.000000</td>\n",
              "      <td>54677.000000</td>\n",
              "      <td>55432.000000</td>\n",
              "      <td>50617.000000</td>\n",
              "      <td>24683.000000</td>\n",
              "      <td>40096.000000</td>\n",
              "      <td>3.511100e+04</td>\n",
              "      <td>55645.000000</td>\n",
              "      <td>4.494400e+04</td>\n",
              "    </tr>\n",
              "    <tr>\n",
              "      <th>mean</th>\n",
              "      <td>3491.795665</td>\n",
              "      <td>0.550737</td>\n",
              "      <td>1.052225</td>\n",
              "      <td>0.851979</td>\n",
              "      <td>1.956317</td>\n",
              "      <td>6.244479e+05</td>\n",
              "      <td>6.865210e+06</td>\n",
              "      <td>2.626690e+06</td>\n",
              "      <td>1.316002e+07</td>\n",
              "      <td>1.185585e+07</td>\n",
              "      <td>2.054715e+06</td>\n",
              "      <td>2.771113e+06</td>\n",
              "      <td>6.009944e+06</td>\n",
              "      <td>6.914875e+07</td>\n",
              "      <td>1.145041e+08</td>\n",
              "      <td>0.230425</td>\n",
              "      <td>0.265692</td>\n",
              "      <td>0.271832</td>\n",
              "      <td>0.948800</td>\n",
              "      <td>1.031593</td>\n",
              "      <td>86.500380</td>\n",
              "      <td>6628.316381</td>\n",
              "      <td>6452.875072</td>\n",
              "      <td>104.558516</td>\n",
              "      <td>2624.555935</td>\n",
              "      <td>10106.554899</td>\n",
              "      <td>6190.516948</td>\n",
              "      <td>17274.315141</td>\n",
              "      <td>16518.540695</td>\n",
              "      <td>5213.246663</td>\n",
              "      <td>10857.565755</td>\n",
              "      <td>938.345321</td>\n",
              "      <td>13.926583</td>\n",
              "      <td>0.230245</td>\n",
              "      <td>0.199866</td>\n",
              "      <td>12.859069</td>\n",
              "      <td>8.480435</td>\n",
              "      <td>8.601420</td>\n",
              "      <td>0.090849</td>\n",
              "      <td>147.797977</td>\n",
              "      <td>108.117363</td>\n",
              "      <td>0.368215</td>\n",
              "      <td>6.634511</td>\n",
              "      <td>0.563377</td>\n",
              "      <td>0.072520</td>\n",
              "      <td>0.095371</td>\n",
              "      <td>3.052449e+05</td>\n",
              "      <td>1.049061</td>\n",
              "      <td>6.005862e+05</td>\n",
              "    </tr>\n",
              "    <tr>\n",
              "      <th>std</th>\n",
              "      <td>188.462426</td>\n",
              "      <td>0.820979</td>\n",
              "      <td>2.147768</td>\n",
              "      <td>3.157692</td>\n",
              "      <td>10.512396</td>\n",
              "      <td>1.433422e+06</td>\n",
              "      <td>1.912729e+07</td>\n",
              "      <td>3.927355e+06</td>\n",
              "      <td>1.977963e+07</td>\n",
              "      <td>2.669459e+07</td>\n",
              "      <td>4.912980e+06</td>\n",
              "      <td>4.544838e+06</td>\n",
              "      <td>2.335893e+07</td>\n",
              "      <td>2.713995e+09</td>\n",
              "      <td>1.153842e+08</td>\n",
              "      <td>0.621833</td>\n",
              "      <td>0.720198</td>\n",
              "      <td>0.725434</td>\n",
              "      <td>1.736454</td>\n",
              "      <td>1.785122</td>\n",
              "      <td>53.445528</td>\n",
              "      <td>5661.059297</td>\n",
              "      <td>5739.968774</td>\n",
              "      <td>436.670719</td>\n",
              "      <td>1964.226548</td>\n",
              "      <td>8796.472481</td>\n",
              "      <td>5390.915344</td>\n",
              "      <td>26930.742020</td>\n",
              "      <td>9666.183962</td>\n",
              "      <td>3124.491488</td>\n",
              "      <td>6049.678489</td>\n",
              "      <td>1044.597044</td>\n",
              "      <td>15.208396</td>\n",
              "      <td>0.683063</td>\n",
              "      <td>0.574002</td>\n",
              "      <td>10.621984</td>\n",
              "      <td>9.328810</td>\n",
              "      <td>7.969215</td>\n",
              "      <td>0.423802</td>\n",
              "      <td>45.085889</td>\n",
              "      <td>36.765769</td>\n",
              "      <td>0.412858</td>\n",
              "      <td>6.378946</td>\n",
              "      <td>0.196973</td>\n",
              "      <td>0.291146</td>\n",
              "      <td>0.335210</td>\n",
              "      <td>1.647757e+06</td>\n",
              "      <td>1.806160</td>\n",
              "      <td>5.842405e+06</td>\n",
              "    </tr>\n",
              "    <tr>\n",
              "      <th>min</th>\n",
              "      <td>2990.000000</td>\n",
              "      <td>0.000000</td>\n",
              "      <td>0.000000</td>\n",
              "      <td>0.000000</td>\n",
              "      <td>0.000000</td>\n",
              "      <td>0.000000e+00</td>\n",
              "      <td>0.000000e+00</td>\n",
              "      <td>0.000000e+00</td>\n",
              "      <td>0.000000e+00</td>\n",
              "      <td>0.000000e+00</td>\n",
              "      <td>0.000000e+00</td>\n",
              "      <td>0.000000e+00</td>\n",
              "      <td>0.000000e+00</td>\n",
              "      <td>0.000000e+00</td>\n",
              "      <td>5.395430e+05</td>\n",
              "      <td>0.000000</td>\n",
              "      <td>0.000000</td>\n",
              "      <td>0.000000</td>\n",
              "      <td>0.000000</td>\n",
              "      <td>0.000000</td>\n",
              "      <td>0.255000</td>\n",
              "      <td>0.000000</td>\n",
              "      <td>0.000000</td>\n",
              "      <td>0.000000</td>\n",
              "      <td>0.000000</td>\n",
              "      <td>0.000000</td>\n",
              "      <td>0.000000</td>\n",
              "      <td>0.000000</td>\n",
              "      <td>0.000000</td>\n",
              "      <td>0.000000</td>\n",
              "      <td>0.000000</td>\n",
              "      <td>0.000000</td>\n",
              "      <td>0.166600</td>\n",
              "      <td>0.000000</td>\n",
              "      <td>0.000000</td>\n",
              "      <td>2.000000</td>\n",
              "      <td>0.000000</td>\n",
              "      <td>0.000000</td>\n",
              "      <td>0.000000</td>\n",
              "      <td>0.021000</td>\n",
              "      <td>0.000000</td>\n",
              "      <td>0.000000</td>\n",
              "      <td>0.000000</td>\n",
              "      <td>0.048528</td>\n",
              "      <td>0.000000</td>\n",
              "      <td>0.000000</td>\n",
              "      <td>0.000000e+00</td>\n",
              "      <td>0.000000</td>\n",
              "      <td>0.000000e+00</td>\n",
              "    </tr>\n",
              "    <tr>\n",
              "      <th>25%</th>\n",
              "      <td>3358.000000</td>\n",
              "      <td>0.070788</td>\n",
              "      <td>0.000000</td>\n",
              "      <td>0.000000</td>\n",
              "      <td>0.000000</td>\n",
              "      <td>1.400400e+04</td>\n",
              "      <td>6.869740e+05</td>\n",
              "      <td>1.929440e+05</td>\n",
              "      <td>1.368502e+06</td>\n",
              "      <td>4.500730e+05</td>\n",
              "      <td>2.172565e+05</td>\n",
              "      <td>2.758010e+05</td>\n",
              "      <td>1.921660e+05</td>\n",
              "      <td>1.657646e+07</td>\n",
              "      <td>5.007636e+07</td>\n",
              "      <td>0.000000</td>\n",
              "      <td>0.000000</td>\n",
              "      <td>0.000000</td>\n",
              "      <td>0.000000</td>\n",
              "      <td>0.000000</td>\n",
              "      <td>40.305000</td>\n",
              "      <td>1068.667500</td>\n",
              "      <td>797.145000</td>\n",
              "      <td>14.865000</td>\n",
              "      <td>1231.500000</td>\n",
              "      <td>3375.000000</td>\n",
              "      <td>2068.000000</td>\n",
              "      <td>60.000000</td>\n",
              "      <td>9765.000000</td>\n",
              "      <td>2312.000000</td>\n",
              "      <td>6297.000000</td>\n",
              "      <td>194.000000</td>\n",
              "      <td>2.333400</td>\n",
              "      <td>0.000000</td>\n",
              "      <td>0.000000</td>\n",
              "      <td>6.000000</td>\n",
              "      <td>2.000000</td>\n",
              "      <td>4.000000</td>\n",
              "      <td>0.000000</td>\n",
              "      <td>136.191750</td>\n",
              "      <td>87.055500</td>\n",
              "      <td>0.000000</td>\n",
              "      <td>2.020000</td>\n",
              "      <td>0.411672</td>\n",
              "      <td>0.000000</td>\n",
              "      <td>0.000000</td>\n",
              "      <td>7.710079e+01</td>\n",
              "      <td>0.000000</td>\n",
              "      <td>4.560141e-02</td>\n",
              "    </tr>\n",
              "    <tr>\n",
              "      <th>50%</th>\n",
              "      <td>3484.000000</td>\n",
              "      <td>0.267575</td>\n",
              "      <td>0.062000</td>\n",
              "      <td>0.000000</td>\n",
              "      <td>0.000000</td>\n",
              "      <td>1.155330e+05</td>\n",
              "      <td>2.704328e+06</td>\n",
              "      <td>9.639420e+05</td>\n",
              "      <td>5.506295e+06</td>\n",
              "      <td>3.707559e+06</td>\n",
              "      <td>6.986440e+05</td>\n",
              "      <td>1.163110e+06</td>\n",
              "      <td>1.605792e+06</td>\n",
              "      <td>2.814143e+07</td>\n",
              "      <td>8.442428e+07</td>\n",
              "      <td>0.000000</td>\n",
              "      <td>0.000000</td>\n",
              "      <td>0.000000</td>\n",
              "      <td>0.000000</td>\n",
              "      <td>0.000000</td>\n",
              "      <td>89.167500</td>\n",
              "      <td>5976.225000</td>\n",
              "      <td>5548.935000</td>\n",
              "      <td>60.660000</td>\n",
              "      <td>2203.500000</td>\n",
              "      <td>8214.000000</td>\n",
              "      <td>5110.000000</td>\n",
              "      <td>486.000000</td>\n",
              "      <td>15057.000000</td>\n",
              "      <td>5658.000000</td>\n",
              "      <td>10584.000000</td>\n",
              "      <td>598.000000</td>\n",
              "      <td>7.833400</td>\n",
              "      <td>0.000000</td>\n",
              "      <td>0.000000</td>\n",
              "      <td>10.000000</td>\n",
              "      <td>6.000000</td>\n",
              "      <td>6.000000</td>\n",
              "      <td>0.000000</td>\n",
              "      <td>150.000000</td>\n",
              "      <td>118.441500</td>\n",
              "      <td>0.220000</td>\n",
              "      <td>5.050000</td>\n",
              "      <td>0.588648</td>\n",
              "      <td>0.000000</td>\n",
              "      <td>0.000000</td>\n",
              "      <td>3.181243e+02</td>\n",
              "      <td>0.000000</td>\n",
              "      <td>1.703996e-01</td>\n",
              "    </tr>\n",
              "    <tr>\n",
              "      <th>75%</th>\n",
              "      <td>3620.000000</td>\n",
              "      <td>0.719512</td>\n",
              "      <td>1.282000</td>\n",
              "      <td>0.000000</td>\n",
              "      <td>0.000000</td>\n",
              "      <td>5.259280e+05</td>\n",
              "      <td>6.993831e+06</td>\n",
              "      <td>3.751516e+06</td>\n",
              "      <td>1.694552e+07</td>\n",
              "      <td>1.326101e+07</td>\n",
              "      <td>1.964839e+06</td>\n",
              "      <td>3.360182e+06</td>\n",
              "      <td>5.593626e+06</td>\n",
              "      <td>4.818738e+07</td>\n",
              "      <td>1.428735e+08</td>\n",
              "      <td>0.000000</td>\n",
              "      <td>0.000000</td>\n",
              "      <td>0.000000</td>\n",
              "      <td>1.000000</td>\n",
              "      <td>1.000000</td>\n",
              "      <td>129.892500</td>\n",
              "      <td>11354.171250</td>\n",
              "      <td>11280.000000</td>\n",
              "      <td>114.712500</td>\n",
              "      <td>3517.500000</td>\n",
              "      <td>14145.000000</td>\n",
              "      <td>8700.000000</td>\n",
              "      <td>60772.000000</td>\n",
              "      <td>21810.000000</td>\n",
              "      <td>7726.000000</td>\n",
              "      <td>14235.000000</td>\n",
              "      <td>1332.000000</td>\n",
              "      <td>21.166600</td>\n",
              "      <td>0.000000</td>\n",
              "      <td>0.000000</td>\n",
              "      <td>16.000000</td>\n",
              "      <td>12.000000</td>\n",
              "      <td>12.000000</td>\n",
              "      <td>0.000000</td>\n",
              "      <td>167.754000</td>\n",
              "      <td>137.496750</td>\n",
              "      <td>0.628573</td>\n",
              "      <td>10.100000</td>\n",
              "      <td>0.753840</td>\n",
              "      <td>0.000000</td>\n",
              "      <td>0.000000</td>\n",
              "      <td>1.153022e+03</td>\n",
              "      <td>1.181754</td>\n",
              "      <td>4.993370e-01</td>\n",
              "    </tr>\n",
              "    <tr>\n",
              "      <th>max</th>\n",
              "      <td>3900.000000</td>\n",
              "      <td>18.015050</td>\n",
              "      <td>57.371600</td>\n",
              "      <td>91.672200</td>\n",
              "      <td>407.748600</td>\n",
              "      <td>5.313546e+07</td>\n",
              "      <td>2.158794e+09</td>\n",
              "      <td>1.037397e+08</td>\n",
              "      <td>3.200533e+08</td>\n",
              "      <td>2.191361e+09</td>\n",
              "      <td>1.707430e+08</td>\n",
              "      <td>1.240439e+08</td>\n",
              "      <td>2.457824e+09</td>\n",
              "      <td>3.854990e+11</td>\n",
              "      <td>3.456119e+09</td>\n",
              "      <td>11.000000</td>\n",
              "      <td>21.000000</td>\n",
              "      <td>21.000000</td>\n",
              "      <td>28.000000</td>\n",
              "      <td>29.000000</td>\n",
              "      <td>1957.875000</td>\n",
              "      <td>97200.000000</td>\n",
              "      <td>97200.000000</td>\n",
              "      <td>31863.750000</td>\n",
              "      <td>25093.500000</td>\n",
              "      <td>73275.000000</td>\n",
              "      <td>42522.000000</td>\n",
              "      <td>60772.000000</td>\n",
              "      <td>73914.000000</td>\n",
              "      <td>25550.000000</td>\n",
              "      <td>47085.000000</td>\n",
              "      <td>21306.000000</td>\n",
              "      <td>152.000000</td>\n",
              "      <td>21.000000</td>\n",
              "      <td>10.000000</td>\n",
              "      <td>200.000000</td>\n",
              "      <td>106.000000</td>\n",
              "      <td>156.000000</td>\n",
              "      <td>21.000000</td>\n",
              "      <td>645.450000</td>\n",
              "      <td>255.000000</td>\n",
              "      <td>2.200000</td>\n",
              "      <td>91.910000</td>\n",
              "      <td>0.800000</td>\n",
              "      <td>5.000000</td>\n",
              "      <td>5.000000</td>\n",
              "      <td>5.321014e+07</td>\n",
              "      <td>28.000000</td>\n",
              "      <td>2.307571e+08</td>\n",
              "    </tr>\n",
              "  </tbody>\n",
              "</table>\n",
              "</div>"
            ],
            "text/plain": [
              "        form_field1   form_field2  ...  form_field49  form_field50\n",
              "count  53471.000000  52156.000000  ...  55645.000000  4.494400e+04\n",
              "mean    3491.795665      0.550737  ...      1.049061  6.005862e+05\n",
              "std      188.462426      0.820979  ...      1.806160  5.842405e+06\n",
              "min     2990.000000      0.000000  ...      0.000000  0.000000e+00\n",
              "25%     3358.000000      0.070788  ...      0.000000  4.560141e-02\n",
              "50%     3484.000000      0.267575  ...      0.000000  1.703996e-01\n",
              "75%     3620.000000      0.719512  ...      1.181754  4.993370e-01\n",
              "max     3900.000000     18.015050  ...     28.000000  2.307571e+08\n",
              "\n",
              "[8 rows x 49 columns]"
            ]
          },
          "metadata": {
            "tags": []
          },
          "execution_count": 10
        }
      ]
    },
    {
      "cell_type": "code",
      "metadata": {
        "colab": {
          "base_uri": "https://localhost:8080/"
        },
        "id": "GwLQuj-mQg6z",
        "outputId": "0f77607e-d53b-4f26-a07b-fb22b67a24d2"
      },
      "source": [
        "test.info()"
      ],
      "execution_count": null,
      "outputs": [
        {
          "output_type": "stream",
          "text": [
            "<class 'pandas.core.frame.DataFrame'>\n",
            "RangeIndex: 24000 entries, 0 to 23999\n",
            "Data columns (total 51 columns):\n",
            " #   Column        Non-Null Count  Dtype  \n",
            "---  ------        --------------  -----  \n",
            " 0   Applicant_ID  24000 non-null  object \n",
            " 1   form_field1   22890 non-null  float64\n",
            " 2   form_field2   22291 non-null  float64\n",
            " 3   form_field3   23854 non-null  float64\n",
            " 4   form_field4   23854 non-null  float64\n",
            " 5   form_field5   23854 non-null  float64\n",
            " 6   form_field6   18396 non-null  float64\n",
            " 7   form_field7   21769 non-null  float64\n",
            " 8   form_field8   18396 non-null  float64\n",
            " 9   form_field9   20600 non-null  float64\n",
            " 10  form_field10  23853 non-null  float64\n",
            " 11  form_field11  10602 non-null  float64\n",
            " 12  form_field12  19817 non-null  float64\n",
            " 13  form_field13  21537 non-null  float64\n",
            " 14  form_field14  24000 non-null  int64  \n",
            " 15  form_field15  14408 non-null  float64\n",
            " 16  form_field16  18526 non-null  float64\n",
            " 17  form_field17  19305 non-null  float64\n",
            " 18  form_field18  19631 non-null  float64\n",
            " 19  form_field19  24000 non-null  float64\n",
            " 20  form_field20  23853 non-null  float64\n",
            " 21  form_field21  17293 non-null  float64\n",
            " 22  form_field22  15276 non-null  float64\n",
            " 23  form_field23  11875 non-null  float64\n",
            " 24  form_field24  18395 non-null  float64\n",
            " 25  form_field25  21744 non-null  float64\n",
            " 26  form_field26  20828 non-null  float64\n",
            " 27  form_field27  20090 non-null  float64\n",
            " 28  form_field28  23853 non-null  float64\n",
            " 29  form_field29  23853 non-null  float64\n",
            " 30  form_field30  13092 non-null  float64\n",
            " 31  form_field31  7190 non-null   float64\n",
            " 32  form_field32  21744 non-null  float64\n",
            " 33  form_field33  23505 non-null  float64\n",
            " 34  form_field34  23853 non-null  float64\n",
            " 35  form_field35  14134 non-null  float64\n",
            " 36  form_field36  23097 non-null  float64\n",
            " 37  form_field37  21744 non-null  float64\n",
            " 38  form_field38  23853 non-null  float64\n",
            " 39  form_field39  22171 non-null  float64\n",
            " 40  form_field40  5172 non-null   float64\n",
            " 41  form_field41  7651 non-null   float64\n",
            " 42  form_field42  23422 non-null  float64\n",
            " 43  form_field43  23750 non-null  float64\n",
            " 44  form_field44  21638 non-null  float64\n",
            " 45  form_field45  10462 non-null  float64\n",
            " 46  form_field46  17115 non-null  float64\n",
            " 47  form_field47  24000 non-null  object \n",
            " 48  form_field48  15078 non-null  float64\n",
            " 49  form_field49  23854 non-null  float64\n",
            " 50  form_field50  19203 non-null  float64\n",
            "dtypes: float64(48), int64(1), object(2)\n",
            "memory usage: 9.3+ MB\n"
          ],
          "name": "stdout"
        }
      ]
    },
    {
      "cell_type": "markdown",
      "metadata": {
        "id": "_p5BgcJrRnfA"
      },
      "source": [
        "**CHECKING THE MISSING VALUES**"
      ]
    },
    {
      "cell_type": "code",
      "metadata": {
        "colab": {
          "base_uri": "https://localhost:8080/"
        },
        "id": "nhCBuuvCRueC",
        "outputId": "76c9b4fb-d6b8-4043-9d4d-baf6276f1ef6"
      },
      "source": [
        "train.isnull().sum()"
      ],
      "execution_count": null,
      "outputs": [
        {
          "output_type": "execute_result",
          "data": {
            "text/plain": [
              "Applicant_ID          0\n",
              "form_field1        2529\n",
              "form_field2        3844\n",
              "form_field3         355\n",
              "form_field4         355\n",
              "form_field5         355\n",
              "form_field6       13360\n",
              "form_field7        5163\n",
              "form_field8       13360\n",
              "form_field9        8008\n",
              "form_field10        355\n",
              "form_field11      31421\n",
              "form_field12       9895\n",
              "form_field13       5889\n",
              "form_field14          0\n",
              "form_field15      22475\n",
              "form_field16      13036\n",
              "form_field17      11151\n",
              "form_field18      10402\n",
              "form_field19          4\n",
              "form_field20        355\n",
              "form_field21      15854\n",
              "form_field22      20400\n",
              "form_field23      28123\n",
              "form_field24      13297\n",
              "form_field25       5450\n",
              "form_field26       7438\n",
              "form_field27       9299\n",
              "form_field28        355\n",
              "form_field29        355\n",
              "form_field30      25509\n",
              "form_field31      39408\n",
              "form_field32       5450\n",
              "form_field33       1256\n",
              "form_field34        355\n",
              "form_field35      23148\n",
              "form_field36       1995\n",
              "form_field37       5450\n",
              "form_field38        355\n",
              "form_field39       4211\n",
              "form_field40      43729\n",
              "form_field41      38229\n",
              "form_field42       1323\n",
              "form_field43        568\n",
              "form_field44       5383\n",
              "form_field45      31317\n",
              "form_field46      15904\n",
              "form_field47          0\n",
              "form_field48      20889\n",
              "form_field49        355\n",
              "form_field50      11056\n",
              "default_status        0\n",
              "dtype: int64"
            ]
          },
          "metadata": {
            "tags": []
          },
          "execution_count": 17
        }
      ]
    },
    {
      "cell_type": "markdown",
      "metadata": {
        "id": "qOJ8ijtVRTUV"
      },
      "source": [
        "**SHAPE OF THE TRAIN DATA SET**"
      ]
    },
    {
      "cell_type": "code",
      "metadata": {
        "colab": {
          "base_uri": "https://localhost:8080/"
        },
        "id": "uiUn4GLAQ8mh",
        "outputId": "8c7ad3f8-d4ef-413a-9ac3-5eb91a1ae8a2"
      },
      "source": [
        "train.shape[0]\n"
      ],
      "execution_count": null,
      "outputs": [
        {
          "output_type": "execute_result",
          "data": {
            "text/plain": [
              "56000"
            ]
          },
          "metadata": {
            "tags": []
          },
          "execution_count": 15
        }
      ]
    },
    {
      "cell_type": "markdown",
      "metadata": {
        "id": "SsodmmOpRZ_q"
      },
      "source": [
        "**PERCENTAGE OF THE MISSING VALUE**"
      ]
    },
    {
      "cell_type": "code",
      "metadata": {
        "colab": {
          "base_uri": "https://localhost:8080/"
        },
        "id": "TAEly3FoQlCG",
        "outputId": "4c5b83cf-731a-4e6c-b531-f8dfa448999b"
      },
      "source": [
        "\n",
        "#percentage of missing values each feature has..\n",
        "missing_percentage = train.isnull().sum()/train.shape[0]\n",
        "missing_percentage"
      ],
      "execution_count": null,
      "outputs": [
        {
          "output_type": "execute_result",
          "data": {
            "text/plain": [
              "Applicant_ID      0.000000\n",
              "form_field1       0.045161\n",
              "form_field2       0.068643\n",
              "form_field3       0.006339\n",
              "form_field4       0.006339\n",
              "form_field5       0.006339\n",
              "form_field6       0.238571\n",
              "form_field7       0.092196\n",
              "form_field8       0.238571\n",
              "form_field9       0.143000\n",
              "form_field10      0.006339\n",
              "form_field11      0.561089\n",
              "form_field12      0.176696\n",
              "form_field13      0.105161\n",
              "form_field14      0.000000\n",
              "form_field15      0.401339\n",
              "form_field16      0.232786\n",
              "form_field17      0.199125\n",
              "form_field18      0.185750\n",
              "form_field19      0.000071\n",
              "form_field20      0.006339\n",
              "form_field21      0.283107\n",
              "form_field22      0.364286\n",
              "form_field23      0.502196\n",
              "form_field24      0.237446\n",
              "form_field25      0.097321\n",
              "form_field26      0.132821\n",
              "form_field27      0.166054\n",
              "form_field28      0.006339\n",
              "form_field29      0.006339\n",
              "form_field30      0.455518\n",
              "form_field31      0.703714\n",
              "form_field32      0.097321\n",
              "form_field33      0.022429\n",
              "form_field34      0.006339\n",
              "form_field35      0.413357\n",
              "form_field36      0.035625\n",
              "form_field37      0.097321\n",
              "form_field38      0.006339\n",
              "form_field39      0.075196\n",
              "form_field40      0.780875\n",
              "form_field41      0.682661\n",
              "form_field42      0.023625\n",
              "form_field43      0.010143\n",
              "form_field44      0.096125\n",
              "form_field45      0.559232\n",
              "form_field46      0.284000\n",
              "form_field47      0.000000\n",
              "form_field48      0.373018\n",
              "form_field49      0.006339\n",
              "form_field50      0.197429\n",
              "default_status    0.000000\n",
              "dtype: float64"
            ]
          },
          "metadata": {
            "tags": []
          },
          "execution_count": 16
        }
      ]
    },
    {
      "cell_type": "markdown",
      "metadata": {
        "id": "vM_MXmQOSi31"
      },
      "source": [
        "**CHECKING THE COLUMNS**"
      ]
    },
    {
      "cell_type": "code",
      "metadata": {
        "colab": {
          "base_uri": "https://localhost:8080/"
        },
        "id": "hoD2bDBbShzH",
        "outputId": "ae2d3910-6963-4dc6-8881-638865172246"
      },
      "source": [
        "train.columns"
      ],
      "execution_count": null,
      "outputs": [
        {
          "output_type": "execute_result",
          "data": {
            "text/plain": [
              "Index(['Applicant_ID', 'form_field1', 'form_field2', 'form_field3',\n",
              "       'form_field4', 'form_field5', 'form_field6', 'form_field7',\n",
              "       'form_field8', 'form_field9', 'form_field10', 'form_field11',\n",
              "       'form_field12', 'form_field13', 'form_field14', 'form_field15',\n",
              "       'form_field16', 'form_field17', 'form_field18', 'form_field19',\n",
              "       'form_field20', 'form_field21', 'form_field22', 'form_field23',\n",
              "       'form_field24', 'form_field25', 'form_field26', 'form_field27',\n",
              "       'form_field28', 'form_field29', 'form_field30', 'form_field31',\n",
              "       'form_field32', 'form_field33', 'form_field34', 'form_field35',\n",
              "       'form_field36', 'form_field37', 'form_field38', 'form_field39',\n",
              "       'form_field40', 'form_field41', 'form_field42', 'form_field43',\n",
              "       'form_field44', 'form_field45', 'form_field46', 'form_field47',\n",
              "       'form_field48', 'form_field49', 'form_field50', 'default_status'],\n",
              "      dtype='object')"
            ]
          },
          "metadata": {
            "tags": []
          },
          "execution_count": 20
        }
      ]
    },
    {
      "cell_type": "markdown",
      "metadata": {
        "id": "Ifoi3VthSJUu"
      },
      "source": [
        "**CHECKING THE CATEGORICAL AND NUMERIC COLUMNS**"
      ]
    },
    {
      "cell_type": "code",
      "metadata": {
        "colab": {
          "base_uri": "https://localhost:8080/"
        },
        "id": "rMCIEZAPRjUb",
        "outputId": "7de63fac-889b-4690-e829-c3584b2c38f5"
      },
      "source": [
        "#which features are categorical?\n",
        "cat_col = train.select_dtypes(include=[np.object]).columns\n",
        "cat_col"
      ],
      "execution_count": null,
      "outputs": [
        {
          "output_type": "execute_result",
          "data": {
            "text/plain": [
              "Index(['Applicant_ID', 'form_field47', 'default_status'], dtype='object')"
            ]
          },
          "metadata": {
            "tags": []
          },
          "execution_count": 18
        }
      ]
    },
    {
      "cell_type": "code",
      "metadata": {
        "colab": {
          "base_uri": "https://localhost:8080/"
        },
        "id": "6NZ0se46STdL",
        "outputId": "7c15f0fa-9ddc-4a7a-e69d-8b2316a1b744"
      },
      "source": [
        "#which features are numerical?\n",
        "num_col = train.select_dtypes(include=[np.number]).columns\n",
        "num_col"
      ],
      "execution_count": null,
      "outputs": [
        {
          "output_type": "execute_result",
          "data": {
            "text/plain": [
              "Index(['form_field1', 'form_field2', 'form_field3', 'form_field4',\n",
              "       'form_field5', 'form_field6', 'form_field7', 'form_field8',\n",
              "       'form_field9', 'form_field10', 'form_field11', 'form_field12',\n",
              "       'form_field13', 'form_field14', 'form_field15', 'form_field16',\n",
              "       'form_field17', 'form_field18', 'form_field19', 'form_field20',\n",
              "       'form_field21', 'form_field22', 'form_field23', 'form_field24',\n",
              "       'form_field25', 'form_field26', 'form_field27', 'form_field28',\n",
              "       'form_field29', 'form_field30', 'form_field31', 'form_field32',\n",
              "       'form_field33', 'form_field34', 'form_field35', 'form_field36',\n",
              "       'form_field37', 'form_field38', 'form_field39', 'form_field40',\n",
              "       'form_field41', 'form_field42', 'form_field43', 'form_field44',\n",
              "       'form_field45', 'form_field46', 'form_field48', 'form_field49',\n",
              "       'form_field50'],\n",
              "      dtype='object')"
            ]
          },
          "metadata": {
            "tags": []
          },
          "execution_count": 19
        }
      ]
    },
    {
      "cell_type": "markdown",
      "metadata": {
        "id": "kGIj4Yw9S5CM"
      },
      "source": [
        "**DATA VISUALIZATION OF SOME COLUMNS**"
      ]
    },
    {
      "cell_type": "code",
      "metadata": {
        "colab": {
          "base_uri": "https://localhost:8080/",
          "height": 297
        },
        "id": "VOM8qMVfSf3V",
        "outputId": "f4637b1a-c990-49bf-8a8a-d88f96bcdef7"
      },
      "source": [
        "#countplot of form_field47 feature..\n",
        "sns.countplot(x='form_field47',data=train)"
      ],
      "execution_count": null,
      "outputs": [
        {
          "output_type": "execute_result",
          "data": {
            "text/plain": [
              "<matplotlib.axes._subplots.AxesSubplot at 0x7fba25874e50>"
            ]
          },
          "metadata": {
            "tags": []
          },
          "execution_count": 21
        },
        {
          "output_type": "display_data",
          "data": {
            "image/png": "[encoded data removed]",
            "text/plain": [
              "<Figure size 432x288 with 1 Axes>"
            ]
          },
          "metadata": {
            "tags": [],
            "needs_background": "light"
          }
        }
      ]
    },
    {
      "cell_type": "code",
      "metadata": {
        "colab": {
          "base_uri": "https://localhost:8080/",
          "height": 297
        },
        "id": "hbz0r92aTF6m",
        "outputId": "e2b1bb64-9847-44d1-b942-573ffa7d2715"
      },
      "source": [
        "#frequency distribution of form_field47 variable with respect to the target variable 'default_status'\n",
        "sns.countplot(x='form_field47',hue='default_status',data=train)"
      ],
      "execution_count": null,
      "outputs": [
        {
          "output_type": "execute_result",
          "data": {
            "text/plain": [
              "<matplotlib.axes._subplots.AxesSubplot at 0x7fba25337610>"
            ]
          },
          "metadata": {
            "tags": []
          },
          "execution_count": 22
        },
        {
          "output_type": "display_data",
          "data": {
            "image/png": "[encoded data removed]",
            "text/plain": [
              "<Figure size 432x288 with 1 Axes>"
            ]
          },
          "metadata": {
            "tags": [],
            "needs_background": "light"
          }
        }
      ]
    },
    {
      "cell_type": "code",
      "metadata": {
        "colab": {
          "base_uri": "https://localhost:8080/"
        },
        "id": "BSTqDgNGTXRM",
        "outputId": "cba12a89-a6fd-4ba1-ed65-82a8b54f3065"
      },
      "source": [
        "train['form_field2']"
      ],
      "execution_count": null,
      "outputs": [
        {
          "output_type": "execute_result",
          "data": {
            "text/plain": [
              "0        0.28505\n",
              "1        0.67400\n",
              "2        0.53845\n",
              "3        0.17005\n",
              "4        0.77270\n",
              "          ...   \n",
              "55995    0.01730\n",
              "55996    2.01145\n",
              "55997    0.76640\n",
              "55998    0.05235\n",
              "55999    0.46930\n",
              "Name: form_field2, Length: 56000, dtype: float64"
            ]
          },
          "metadata": {
            "tags": []
          },
          "execution_count": 24
        }
      ]
    },
    {
      "cell_type": "markdown",
      "metadata": {
        "id": "jHI9BA3lUItU"
      },
      "source": [
        "**DEALING WITH MISSING DATA AND DROPPING SOME COLUMNS**"
      ]
    },
    {
      "cell_type": "code",
      "metadata": {
        "id": "1ofODZwFUQux"
      },
      "source": [
        "def fill_missing_columns(col):\n",
        "    for i in col:\n",
        "        b = -999999\n",
        "        train[i].fillna(b,inplace=True)\n",
        "        test[i].fillna(b,inplace= True)\n",
        "fill_missing_columns(train.drop([\"Applicant_ID\",\"default_status\"],axis=1))"
      ],
      "execution_count": 35,
      "outputs": []
    },
    {
      "cell_type": "markdown",
      "metadata": {
        "id": "v5s0ZrAxVkj_"
      },
      "source": [
        "**ENCODING THE CATEGORICAL VARIABLES,DEFAULT_STATUS**\n",
        "\n"
      ]
    },
    {
      "cell_type": "code",
      "metadata": {
        "id": "4ms2F1MmUxCA"
      },
      "source": [
        "train.default_status.replace({\"yes\":1,\"no\":0},inplace=True)"
      ],
      "execution_count": 34,
      "outputs": []
    },
    {
      "cell_type": "code",
      "metadata": {
        "colab": {
          "base_uri": "https://localhost:8080/"
        },
        "id": "NL6qB6FCbtB8",
        "outputId": "d5e32578-f729-4b67-be0a-86ad7b51cf8a"
      },
      "source": [
        "train.form_field47"
      ],
      "execution_count": 36,
      "outputs": [
        {
          "output_type": "execute_result",
          "data": {
            "text/plain": [
              "0         charge\n",
              "1         charge\n",
              "2         charge\n",
              "3         charge\n",
              "4         charge\n",
              "          ...   \n",
              "55995    lending\n",
              "55996    lending\n",
              "55997    lending\n",
              "55998     charge\n",
              "55999     charge\n",
              "Name: form_field47, Length: 56000, dtype: object"
            ]
          },
          "metadata": {
            "tags": []
          },
          "execution_count": 36
        }
      ]
    },
    {
      "cell_type": "markdown",
      "metadata": {
        "id": "oohklie-anr7"
      },
      "source": [
        "**TARGET ENCODE THE CATEGORICAL DATA FORM FIELD 47**"
      ]
    },
    {
      "cell_type": "code",
      "metadata": {
        "colab": {
          "base_uri": "https://localhost:8080/"
        },
        "id": "9wB6Oap7gS09",
        "outputId": "5bf1aef1-3a68-4e4c-85ee-b634f437f1d0"
      },
      "source": [
        "!pip install category_encoders"
      ],
      "execution_count": 45,
      "outputs": [
        {
          "output_type": "stream",
          "text": [
            "Collecting category_encoders\n",
            "\u001b[?25l  Downloading https://files.pythonhosted.org/packages/44/57/fcef41c248701ee62e8325026b90c432adea35555cbc870aff9cfba23727/category_encoders-2.2.2-py2.py3-none-any.whl (80kB)\n",
            "\r\u001b[K     |████                            | 10kB 14.0MB/s eta 0:00:01\r\u001b[K     |████████▏                       | 20kB 9.4MB/s eta 0:00:01\r\u001b[K     |████████████▏                   | 30kB 5.6MB/s eta 0:00:01\r\u001b[K     |████████████████▎               | 40kB 5.2MB/s eta 0:00:01\r\u001b[K     |████████████████████▎           | 51kB 2.9MB/s eta 0:00:01\r\u001b[K     |████████████████████████▍       | 61kB 3.4MB/s eta 0:00:01\r\u001b[K     |████████████████████████████▍   | 71kB 3.5MB/s eta 0:00:01\r\u001b[K     |████████████████████████████████| 81kB 2.7MB/s \n",
            "\u001b[?25hRequirement already satisfied: statsmodels>=0.9.0 in /usr/local/lib/python3.7/dist-packages (from category_encoders) (0.10.2)\n",
            "Requirement already satisfied: scikit-learn>=0.20.0 in /usr/local/lib/python3.7/dist-packages (from category_encoders) (0.22.2.post1)\n",
            "Requirement already satisfied: pandas>=0.21.1 in /usr/local/lib/python3.7/dist-packages (from category_encoders) (1.1.5)\n",
            "Requirement already satisfied: numpy>=1.14.0 in /usr/local/lib/python3.7/dist-packages (from category_encoders) (1.19.5)\n",
            "Requirement already satisfied: scipy>=1.0.0 in /usr/local/lib/python3.7/dist-packages (from category_encoders) (1.4.1)\n",
            "Requirement already satisfied: patsy>=0.5.1 in /usr/local/lib/python3.7/dist-packages (from category_encoders) (0.5.1)\n",
            "Requirement already satisfied: joblib>=0.11 in /usr/local/lib/python3.7/dist-packages (from scikit-learn>=0.20.0->category_encoders) (1.0.1)\n",
            "Requirement already satisfied: pytz>=2017.2 in /usr/local/lib/python3.7/dist-packages (from pandas>=0.21.1->category_encoders) (2018.9)\n",
            "Requirement already satisfied: python-dateutil>=2.7.3 in /usr/local/lib/python3.7/dist-packages (from pandas>=0.21.1->category_encoders) (2.8.1)\n",
            "Requirement already satisfied: six in /usr/local/lib/python3.7/dist-packages (from patsy>=0.5.1->category_encoders) (1.15.0)\n",
            "Installing collected packages: category-encoders\n",
            "Successfully installed category-encoders-2.2.2\n"
          ],
          "name": "stdout"
        }
      ]
    },
    {
      "cell_type": "code",
      "metadata": {
        "id": "u8xJvNfedu3a"
      },
      "source": [
        "from category_encoders import TargetEncoder"
      ],
      "execution_count": 46,
      "outputs": []
    },
    {
      "cell_type": "code",
      "metadata": {
        "id": "hAqJtMimkxMQ"
      },
      "source": [
        " def transform(self, X, y=None):\n",
        "        \"\"\"Perform the target encoding transformation.\n",
        "        \n",
        "        Parameters\n",
        "        ----------\n",
        "        X : pandas DataFrame, shape [n_samples, n_columns]\n",
        "            DataFrame containing columns to encode\n",
        "            \n",
        "        Returns\n",
        "        -------\n",
        "        pandas DataFrame\n",
        "            Input DataFrame with transformed columns\n",
        "        \"\"\"\n",
        "        Xo = X.copy()\n",
        "        for col, tmap in self.maps.items():\n",
        "            vals = np.full(X.shape[0], np.nan)\n",
        "            for val, mean_target in tmap.items():\n",
        "                vals[X[col]==val] = mean_target\n",
        "            Xo[col] = vals\n",
        "        return Xo\n",
        "            "
      ],
      "execution_count": null,
      "outputs": []
    },
    {
      "cell_type": "code",
      "metadata": {
        "id": "y17PkdfNWNAX",
        "colab": {
          "base_uri": "https://localhost:8080/",
          "height": 338
        },
        "outputId": "196fd187-e936-47f0-a856-423151fc84f4"
      },
      "source": [
        "te = TargetEncoder()\n",
        "a = pd.DataFrame(train.form_field47)\n",
        "b = pd.DataFrame(test.form_field47)\n",
        "\n",
        "\n",
        "\n",
        "\n",
        "X_target_encoded = te.fit(a,train[\"default_status\"])\n",
        "train =X_target_encoded.transform(train)\n",
        "test = X_target_encoded.transform(test)"
      ],
      "execution_count": 50,
      "outputs": [
        {
          "output_type": "error",
          "ename": "ValueError",
          "evalue": "ignored",
          "traceback": [
            "\u001b[0;31m---------------------------------------------------------------------------\u001b[0m",
            "\u001b[0;31mValueError\u001b[0m                                Traceback (most recent call last)",
            "\u001b[0;32m<ipython-input-50-53362c31d325>\u001b[0m in \u001b[0;36m<module>\u001b[0;34m()\u001b[0m\n\u001b[1;32m      7\u001b[0m \u001b[0;34m\u001b[0m\u001b[0m\n\u001b[1;32m      8\u001b[0m \u001b[0mX_target_encoded\u001b[0m \u001b[0;34m=\u001b[0m \u001b[0mte\u001b[0m\u001b[0;34m.\u001b[0m\u001b[0mfit\u001b[0m\u001b[0;34m(\u001b[0m\u001b[0ma\u001b[0m\u001b[0;34m,\u001b[0m\u001b[0mtrain\u001b[0m\u001b[0;34m[\u001b[0m\u001b[0;34m\"default_status\"\u001b[0m\u001b[0;34m]\u001b[0m\u001b[0;34m)\u001b[0m\u001b[0;34m\u001b[0m\u001b[0;34m\u001b[0m\u001b[0m\n\u001b[0;32m----> 9\u001b[0;31m \u001b[0mtrain\u001b[0m \u001b[0;34m=\u001b[0m\u001b[0mX_target_encoded\u001b[0m\u001b[0;34m.\u001b[0m\u001b[0mtransform\u001b[0m\u001b[0;34m(\u001b[0m\u001b[0mtrain\u001b[0m\u001b[0;34m)\u001b[0m\u001b[0;34m\u001b[0m\u001b[0;34m\u001b[0m\u001b[0m\n\u001b[0m\u001b[1;32m     10\u001b[0m \u001b[0mtest\u001b[0m \u001b[0;34m=\u001b[0m \u001b[0mX_target_encoded\u001b[0m\u001b[0;34m.\u001b[0m\u001b[0mtransform\u001b[0m\u001b[0;34m(\u001b[0m\u001b[0mtest\u001b[0m\u001b[0;34m)\u001b[0m\u001b[0;34m\u001b[0m\u001b[0;34m\u001b[0m\u001b[0m\n",
            "\u001b[0;32m/usr/local/lib/python3.7/dist-packages/category_encoders/target_encoder.py\u001b[0m in \u001b[0;36mtransform\u001b[0;34m(self, X, y, override_return_df)\u001b[0m\n\u001b[1;32m    216\u001b[0m         \u001b[0;31m# then make sure that it is the right size\u001b[0m\u001b[0;34m\u001b[0m\u001b[0;34m\u001b[0m\u001b[0;34m\u001b[0m\u001b[0m\n\u001b[1;32m    217\u001b[0m         \u001b[0;32mif\u001b[0m \u001b[0mX\u001b[0m\u001b[0;34m.\u001b[0m\u001b[0mshape\u001b[0m\u001b[0;34m[\u001b[0m\u001b[0;36m1\u001b[0m\u001b[0;34m]\u001b[0m \u001b[0;34m!=\u001b[0m \u001b[0mself\u001b[0m\u001b[0;34m.\u001b[0m\u001b[0m_dim\u001b[0m\u001b[0;34m:\u001b[0m\u001b[0;34m\u001b[0m\u001b[0;34m\u001b[0m\u001b[0m\n\u001b[0;32m--> 218\u001b[0;31m             \u001b[0;32mraise\u001b[0m \u001b[0mValueError\u001b[0m\u001b[0;34m(\u001b[0m\u001b[0;34m'Unexpected input dimension %d, expected %d'\u001b[0m \u001b[0;34m%\u001b[0m \u001b[0;34m(\u001b[0m\u001b[0mX\u001b[0m\u001b[0;34m.\u001b[0m\u001b[0mshape\u001b[0m\u001b[0;34m[\u001b[0m\u001b[0;36m1\u001b[0m\u001b[0;34m]\u001b[0m\u001b[0;34m,\u001b[0m \u001b[0mself\u001b[0m\u001b[0;34m.\u001b[0m\u001b[0m_dim\u001b[0m\u001b[0;34m,\u001b[0m\u001b[0;34m)\u001b[0m\u001b[0;34m)\u001b[0m\u001b[0;34m\u001b[0m\u001b[0;34m\u001b[0m\u001b[0m\n\u001b[0m\u001b[1;32m    219\u001b[0m \u001b[0;34m\u001b[0m\u001b[0m\n\u001b[1;32m    220\u001b[0m         \u001b[0;31m# if we are encoding the training data, we have to check the target\u001b[0m\u001b[0;34m\u001b[0m\u001b[0;34m\u001b[0m\u001b[0;34m\u001b[0m\u001b[0m\n",
            "\u001b[0;31mValueError\u001b[0m: Unexpected input dimension 52, expected 1"
          ]
        }
      ]
    },
    {
      "cell_type": "code",
      "metadata": {
        "id": "EFYLIDFndpt7"
      },
      "source": [
        ""
      ],
      "execution_count": null,
      "outputs": []
    }
  ]
}